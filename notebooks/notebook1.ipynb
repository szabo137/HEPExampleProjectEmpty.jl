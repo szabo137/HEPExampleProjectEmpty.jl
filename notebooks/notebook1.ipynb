{
 "cells": [
  {
   "cell_type": "code",
   "execution_count": null,
   "metadata": {},
   "outputs": [],
   "source": [
    "#ignore me, test setup\n",
    "\n",
    "en1,x1,y1,z1 = rand(Float64,4)\n",
    "en2,x2,y2,z2 = rand(Float32,4)\n",
    "dot = en1*en2 - x1*x2 - y1*y2 - z1*z2\n",
    "\n"
   ]
  },
  {
   "cell_type": "markdown",
   "metadata": {
    "vscode": {
     "languageId": "julia"
    }
   },
   "source": [
    "Leptonic Event Generator - a simple Julia HEP Project\n",
    "========================================================\n",
    "\n",
    "\n",
    "The best way to learn a programming language is by doing, so we're going to build a simple event generator - generating $e^+e^-\\rightarrow\\mu^+\\mu^-$ events - in the `Julia` language.\n",
    "\n",
    "The full completed source code is also available, but in these notebooks, we're going to guide you through the process file by file.\n",
    "\n",
    "\n",
    "Our full project consists of one main Julia source file (*HEPExampleProject.jl*) plus subsiduary files divided strictly by their domain of application (*constants.jl*, *cross-section.jl*, *events.jl*, *four_momentum.jl*, *plotting.jl* and *utils.jl*).\n",
    "\n",
    "We're not going to implement the main file, since it just ties everything else together into a package. Instead, we're going to implement the functionality of the other files, approximately in the order given.\n"
   ]
  },
  {
   "cell_type": "markdown",
   "metadata": {},
   "source": [
    "First, let's look at **constants.jl** - this file exists purely to define `const` names so we can use them in the rest of the code.\n",
    "\n",
    "As an aside, normally we'd not bother defining our own fundamental constants for commonly-known values - there's a very good Julia package called `PhysicalConstants.jl` that provides the usual constants we care about, and which interoperates with other packages like `Unitful.jl` to provide full support for unit conversion (and values with attached units). \n",
    "We're doing so here because it's a trivial example of writing Julia code that just declares some names with values.\n",
    "\n",
    "We declare constants in Julia using the `const` keyword. Ideally, in order to allow Julia to generate code as efficiently as possible, we should also specify the *type* of the constant - however, for this example we will elide this unless you want to.\n",
    "\n",
    "Specify the physical constants we need for the rest of the code, as given in the comments in **constants.jl**. We've provided one (ELECTRON_MASS, in MeV) for you."
   ]
  },
  {
   "cell_type": "code",
   "execution_count": 5,
   "metadata": {},
   "outputs": [
    {
     "data": {
      "text/plain": [
       "0.51099895"
      ]
     },
     "metadata": {},
     "output_type": "display_data"
    }
   ],
   "source": [
    "const ELECTRON_MASS = 0.51099895000 #MeV\n",
    "#MUON_MASS\n",
    "#ALPHA"
   ]
  },
  {
   "cell_type": "markdown",
   "metadata": {},
   "source": [
    "The first piece of non-trivial Julia code we need to complete is in **cross_section.jl**. \n",
    "\n",
    "We've left in the comments that describe the functions we need - to calculate the differential cross-section for a given energy and wrt scattering angle; and then to compute the total cross-section for a given energy (integrated over all scattering angles) - and the \"prototypes\" of the function, so we simply need to fill in the bodies.\n",
    "\n",
    "First, to make our lives easier, we should define a utility function - `_rho` (where the _ indicates that this is likely a local function that isn't going to be exported) - which takes in a total relativistic energy, and a rest-mass, and returns the magnitude of the three-momentum.\n",
    "\n",
    "We know from Special relativity that the total relativistic energy $E$ of a particle is related to the three-momentum $\\rho$ and the rest-mass $m$ by:\n",
    "\n",
    "$E^2 = m^2 + \\rho^2$, where we're using reduced units so $c=1$.\n",
    "\n",
    "Write a function `_rho` that takes in $E$ and $m$, and returns the value of $\\rho$. \n",
    "(Remember, you can write a short simple function with the formalism:\n",
    "functionname(args) = expression \n",
    ")\n",
    "The assert statement in the frame below will test if your implementation is correct."
   ]
  },
  {
   "cell_type": "code",
   "execution_count": 2,
   "metadata": {},
   "outputs": [
    {
     "data": {
      "text/plain": [
       "_rho (generic function with 1 method)"
      ]
     },
     "metadata": {},
     "output_type": "display_data"
    }
   ],
   "source": [
    "#_rho"
   ]
  },
  {
   "cell_type": "code",
   "execution_count": 6,
   "metadata": {},
   "outputs": [],
   "source": [
    "@assert _rho(1e3, ELECTRON_MASS) == 999.999869440028"
   ]
  },
  {
   "cell_type": "markdown",
   "metadata": {},
   "source": [
    "Note: we could also \"decorate\" this simple function with the @inline macro - just adding it to the start of the line with the function declaration. This would instruct the Julia JIT to expand out the function wherever it is called, rather than potentially calling it and incurring more runtime costs. \n",
    "\n",
    "Differential Cross Section\n",
    "\n",
    "The doc-string for the differential cross section function tells us that the equation we need to implement is:\n",
    "\n",
    "$\\frac{\\mathrm{d}\\sigma}{\\mathrm{d}\\Omega} = \\frac{\\alpha^2}{16 E_{\\mathrm{in}}^6}\\left( E_{\\text{in}}^4 + \\rho_e^2 \\rho_\\mu^2 \\cos^2\\theta + E_{\\text{in}}^2 \\left( m_e^2 + m_\\mu^2 \\right) \\right)\n",
    "$\n",
    "\n",
    "where:\n",
    "- $E_{\\text{in}}$ is the energy of the incoming electron/positron in CMS,\n",
    "- $\\rho_i$ are the magnitude of three-momenta of the electron ($i=e$) and muon ($i=\\mu$) in the center-of-mass frame,\n",
    "- $\\alpha$ is the fine-structure constant,\n",
    "- $m_e$ and $m_\\mu$ are the masses of the electron and muon, respectively.\n",
    "\n",
    "We already have a function that does $\\rho_i$ for us.\n",
    "\n",
    "Our task is to write a function that takes in $E_{\\text{in}}$ and $\\cos\\theta$ and returns the value of the above expression. As this is going to need several lines, we're using the \"long\" form of a function declaration which starts\n",
    "\n",
    "**function name(args)**\n",
    "\n",
    "and ends\n",
    "\n",
    "**end**\n",
    "\n",
    "(You probably want to calculate $\\rho$ for the electron and muon first - as this is in the CoM frame, energy conservation ensures that $E_{\\text{in}} == E_{\\text{out}}$ )"
   ]
  },
  {
   "cell_type": "code",
   "execution_count": null,
   "metadata": {},
   "outputs": [],
   "source": [
    "function differential_cross_section(E_in,cos_theta)\n",
    "    # fill me in\n",
    "\n",
    "end"
   ]
  },
  {
   "cell_type": "code",
   "execution_count": 7,
   "metadata": {},
   "outputs": [
    {
     "ename": "LoadError",
     "evalue": "LoadError: UndefVarError: `@testset` not defined in `Main`\nSuggestion: check for spelling errors or missing imports.\nin expression starting at c:\\Users\\SamS\\HEPExampleProject.jl\\notebooks\\jl_notebook_cell_df34fa98e69747e1a8f8a730347b8e2f_W3sZmlsZQ==.jl:1",
     "output_type": "error",
     "traceback": [
      "LoadError: UndefVarError: `@testset` not defined in `Main`\n",
      "Suggestion: check for spelling errors or missing imports.\n",
      "in expression starting at c:\\Users\\SamS\\HEPExampleProject.jl\\notebooks\\jl_notebook_cell_df34fa98e69747e1a8f8a730347b8e2f_W3sZmlsZQ==.jl:1\n"
     ]
    }
   ],
   "source": [
    "@testset \"differential cross section\" begin\n",
    "    @testset \"E = $E, cth = $cth\" for (E,cth) in Iterators.product(ENERGIES, COSTHETAS)\n",
    "        @test isapprox(differential_cross_section(E,cth),groundtruth_diffCS(E,cth))\n",
    "    end\n",
    "end"
   ]
  },
  {
   "cell_type": "markdown",
   "metadata": {},
   "source": [
    "Similarly, we can implement the total cross section for $e^+e^-\\rightarrow\\mu^+\\mu^-$ at a given CoM energy, using the integral of the differential cross-section wrt $\\theta$:\n",
    "\n",
    "$\\mathrm{d}\\sigma(E_in) = \\frac{\\pi \\alpha^2}{8 E_{\\text{in}}^6} \\cdot \\frac{\\rho_\\mu}{\\rho_e} \\left( 2 E_{\\text{in}}^4 + \\frac{2}{3} \\rho_\\mu^2 \\rho_e^2 + 2 E_{\\text{in}}^2 (m_\\mu^2 + m_e^2) \\right)$\n"
   ]
  },
  {
   "cell_type": "code",
   "execution_count": null,
   "metadata": {},
   "outputs": [],
   "source": [
    "function total_cross_section(E_in)\n",
    "    #fill me in\n",
    "end"
   ]
  },
  {
   "cell_type": "code",
   "execution_count": null,
   "metadata": {},
   "outputs": [],
   "source": [
    "#assert"
   ]
  },
  {
   "cell_type": "markdown",
   "metadata": {},
   "source": [
    "This completes the code needed to implement **cross_section.jl**.\n",
    "\n",
    "### four_momentum.jl\n",
    "\n",
    "In order to properly represent Events, we need a type that can represent the 4-Momentum of a particle. 4-Momenta are not simply vectors or tuples of 4 values: they have an algebra defined for them. Implementing a 4-Momentum type allow us to express this naturally via the standard Julia operators.\n",
    "\n",
    "A natural construct to hold a 4-momentum would be a struct, with fields \n",
    "- `en`: Energy component.\n",
    "- `x`: Spatial component in the x-direction.\n",
    "- `y`: Spatial component in the y-direction.\n",
    "- `z`: Spatial component in the z-direction.\n",
    "\n",
    "However, it isn't clear what *type* these elements should have, other than that clearly they should all have the same type in the same instance of a 4-momentum. \n",
    "Julia supports us here, in that it allows us to create *parameterised* composite types.\n",
    "\n",
    "In this case, we want all of the fields to have the same type, `T`, and for that type to be a parameter of the struct itself.\n",
    "(Optionally, we can also constrain the set acceptable types for T, by writing a type identity or subset relation for T in the struct definition).\n"
   ]
  },
  {
   "cell_type": "code",
   "execution_count": null,
   "metadata": {},
   "outputs": [],
   "source": [
    "struct FourMomentum{T}   #optionally - add a type constraint here so T can only be of typeclass Real\n",
    "#elements of struct here, with correct type\n",
    "end\n",
    "\n",
    "# type promotion on construction \n",
    "#(this ensures that a FourMomentum built with mixed types is built with the most precise of those types)\n",
    "# the ... operator expands a list into a set of parameters for a function\n",
    "FourMomentum(en,x,y,z) = FourMomentum(promote(en,x,y,z)...)"
   ]
  },
  {
   "cell_type": "code",
   "execution_count": null,
   "metadata": {},
   "outputs": [],
   "source": [
    "#this implements the isapprox relation for FourMomentum (floating-point aware approximate equality)\n",
    "function Base.isapprox(\n",
    "    p1::FourMomentum,\n",
    "    p2::FourMomentum;\n",
    "    atol::Real=0,\n",
    "    rtol::Real=Base.rtoldefault(p1.x, p1.y, atol),\n",
    "    nans::Bool=false,\n",
    "    norm::Function=abs,\n",
    ")\n",
    "    return isapprox(p1.en, p2.en; atol=atol, rtol=rtol, nans=nans, norm=norm) &&\n",
    "           isapprox(p1.x, p2.x; atol=atol, rtol=rtol, nans=nans, norm=norm) &&\n",
    "           isapprox(p1.y, p2.y; atol=atol, rtol=rtol, nans=nans, norm=norm) &&\n",
    "           isapprox(p1.z, p2.z; atol=atol, rtol=rtol, nans=nans, norm=norm)\n",
    "end"
   ]
  },
  {
   "cell_type": "markdown",
   "metadata": {},
   "source": [
    "Note: by default, structs are *immutable* types, so we can't edit the contents of a FourMomentum we've created.\n",
    "\n",
    "However, we can create new ones via arithmetic operations, so we should extend the standard operators to do the right thing in these cases.\n",
    "Julia uses *multiple-dispatch* for all function calls, so extending an operator is the same as defining that operator for a new combination of types on all its parameters.\n",
    "\n",
    "The first thing we'll implement is something that's harder to express in languages where *types* themselves are not first-class elements - the `eltype` operation, which returns the type of an element when given the type of a container. \n",
    "(For example:\n",
    "eltype(Array{Float64}) gives Float64\n",
    ")\n",
    "\n",
    "Because `eltype` is defined in another module (in this case, the `Base` module that contains the fundamental Julia language primitives), we need to specify its name fully - including the Module name - if we're going to add methods to it for a new type.\n",
    "\n",
    "A trick with eltype in particular is that we can use \"generic\" type parameters as arguments in our function - and you don't *have* to name a parameter if you're not actually going to use it in your function.\n",
    "So, here, we only care that the parameter is of type FourMomentum{T} - and thus has elements of type T - we don't care about the actual values at all."
   ]
  },
  {
   "cell_type": "code",
   "execution_count": null,
   "metadata": {},
   "outputs": [],
   "source": [
    "Base.eltype(::FourMomentum{T}) \n",
    "#finish this off - add a where to restrict T (are there any?) and then the function implementation itself\n",
    "#                   which is very very short!"
   ]
  },
  {
   "cell_type": "code",
   "execution_count": null,
   "metadata": {},
   "outputs": [],
   "source": [
    "p1 = FourMomentum(en1,x1,y1,z1)\n",
    "p2 = FourMomentum(en2,x2,y2,z2)\n",
    "@assert eltype(p1) == Float64 && eltype(p2) == Float32\n"
   ]
  },
  {
   "cell_type": "markdown",
   "metadata": {},
   "source": [
    "Next let's define the basic arithmetic operations for FourMomentum vector. Again, these operators are defined in the Base module.\n",
    "\n",
    "For addition and subtraction, these are simply element-wise application of the same operator across the pair of FourMomenta - we can do this \"inside\" the constructor for the new FourMomentum to save space and allocations"
   ]
  },
  {
   "cell_type": "code",
   "execution_count": null,
   "metadata": {},
   "outputs": [],
   "source": [
    "function Base.:+(p1::FourMomentum, p2::FourMomentum) \n",
    "    \n",
    "end\n",
    "\n",
    "#do subtraction as well\n"
   ]
  },
  {
   "cell_type": "code",
   "execution_count": null,
   "metadata": {},
   "outputs": [],
   "source": [
    "p1_plus_2 = p1 + p2\n",
    "@assert eltype(p1_plus_p2)==Float64 && isapprox(p1_plus_p2.en,en1 + en2) && isapprox(p1_plus_p2.x,x1 + x2) && isapprox(p1_plus_p2.y,y1 + y2) && isapprox(p1_plus_p2.z,z1 + z2)"
   ]
  },
  {
   "cell_type": "markdown",
   "metadata": {},
   "source": [
    "For multiplication by a scalar, this is also just element-wise application of the scalar across all the fields."
   ]
  },
  {
   "cell_type": "code",
   "execution_count": null,
   "metadata": {},
   "outputs": [],
   "source": [
    "function Base.:*(a::Real, p::FourMomentum) \n",
    "    \n",
    "end"
   ]
  },
  {
   "cell_type": "markdown",
   "metadata": {},
   "source": [
    "Finally, for the dot product (with the Minkowski metric), the result is the sum over the paired elements, with signs given by the metric."
   ]
  },
  {
   "cell_type": "code",
   "execution_count": null,
   "metadata": {},
   "outputs": [],
   "source": [
    "function minkowski_dot(#fill me in)\n",
    "    # Minkowski metric: (+,-,-,-)\n",
    "    \n",
    "end"
   ]
  },
  {
   "cell_type": "code",
   "execution_count": null,
   "metadata": {},
   "outputs": [],
   "source": [
    "p1_times_p2 = minkowski_dot(p1,p2)\n",
    "@assert isapprox(p1_times_p2,dot)"
   ]
  },
  {
   "cell_type": "markdown",
   "metadata": {},
   "source": [
    "We also provide some utility functions for creating FourMomenta from other parameters which fully specify the context of an event.\n",
    "\n",
    "Given a CoM energy, $E_{in}$, and the scattering angles $\\cos\\theta$ and $\\phi$, we can generate a prototypical event by assuming the $e^+e^-$ collision is colinear with the $z$-axis, and then rotating the $\\mu^+\\mu^-$ components relative to them. \n",
    "As always, we can use the `rho` function we defined first to get the magnitude of the 3-momentum from the energy, for a given particle mass.\n",
    "\n",
    "(To save you remembering the mathematics, with $z$ as the principal axis, the components in the $x,y,z$ axes will be $\\sin\\theta\\cos\\phi, \\sin\\theta\\sin\\phi, \\cos\\theta$ respectively)\n",
    "\n",
    "The \"event\" we generate here is thus simply a tuple of 4 FourMomenta, in the order $e^-$,$e^+$,$\\mu^-$,$\\mu^+$... "
   ]
  },
  {
   "cell_type": "code",
   "execution_count": null,
   "metadata": {},
   "outputs": [],
   "source": [
    "function _construct_moms_from_coords(E_in,cos_theta,phi)\n",
    "    #implement me\n",
    "end"
   ]
  }
 ],
 "metadata": {
  "kernelspec": {
   "display_name": "Julia 1.11.0-rc3",
   "language": "julia",
   "name": "julia-1.11"
  },
  "language_info": {
   "file_extension": ".jl",
   "mimetype": "application/julia",
   "name": "julia",
   "version": "1.11.0-rc3"
  }
 },
 "nbformat": 4,
 "nbformat_minor": 2
}
